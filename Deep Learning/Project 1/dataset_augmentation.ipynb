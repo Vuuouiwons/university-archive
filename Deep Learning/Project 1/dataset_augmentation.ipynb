{
 "cells": [
  {
   "cell_type": "code",
   "execution_count": 12,
   "id": "c581e228",
   "metadata": {},
   "outputs": [],
   "source": [
    "import os\n",
    "import kornia as K\n",
    "from kornia.augmentation import AugmentationSequential\n",
    "from torchvision.utils import save_image\n",
    "import torch"
   ]
  },
  {
   "cell_type": "code",
   "execution_count": 13,
   "id": "37f4ebd7",
   "metadata": {},
   "outputs": [
    {
     "data": {
      "text/plain": [
       "('d:\\\\Kuliah\\\\master\\\\deep-learning-project-1\\\\deeplearning-project-1\\\\dataset\\\\train',\n",
       " 'd:\\\\Kuliah\\\\master\\\\deep-learning-project-1\\\\deeplearning-project-1\\\\augmented_dataset\\\\train',\n",
       " ['d:\\\\Kuliah\\\\master\\\\deep-learning-project-1\\\\deeplearning-project-1\\\\dataset\\\\train\\\\disgust'],\n",
       " ['d:\\\\Kuliah\\\\master\\\\deep-learning-project-1\\\\deeplearning-project-1\\\\augmented_dataset\\\\train\\\\disgust'])"
      ]
     },
     "execution_count": 13,
     "metadata": {},
     "output_type": "execute_result"
    }
   ],
   "source": [
    "# Paths\n",
    "working_dir = os.getcwd()\n",
    "\n",
    "train_set = os.path.join(working_dir, 'dataset', 'train')\n",
    "train_set_augment = os.path.join(working_dir, 'augmented_dataset', 'train')\n",
    "train_y = [os.path.join(train_set, i) for i in os.listdir(train_set)]\n",
    "train_y_augment = [os.path.join(train_set_augment, i) for i in os.listdir(train_set)]\n",
    "\n",
    "(train_set, train_set_augment, train_y, train_y_augment)"
   ]
  },
  {
   "cell_type": "code",
   "execution_count": 14,
   "id": "493d4a85",
   "metadata": {},
   "outputs": [],
   "source": [
    "# Pipeline\n",
    "# https://kornia.readthedocs.io/en/stable/augmentation.container.html\n",
    "# https://kornia.readthedocs.io/en/stable/augmentation.module.html\n",
    "from pathlib import Path\n",
    "\n",
    "def augment_pipe(image_path: str, save_path: str, n: int):\n",
    "    device = torch.device(\"cuda\" if torch.cuda.is_available() else \"cpu\")\n",
    "    \n",
    "    pipe = AugmentationSequential(\n",
    "        K.augmentation.ColorJitter(0.1, 0.1, 0.1, 0.1, p=0.5),\n",
    "        K.augmentation.RandomBoxBlur(kernel_size=(3,3), keepdim=True, p=0.5),\n",
    "        K.augmentation.RandomBrightness(p=0.5, keepdim=True),\n",
    "        K.augmentation.RandomGaussianNoise(mean=0, std=0.05, p=0.5, keepdim=True),\n",
    "        K.augmentation.RandomSaltAndPepperNoise(amount=(0.01, 0.06), salt_vs_pepper=(0.4, 0.6), p=0.5, same_on_batch=False, keepdim=True),\n",
    "        K.augmentation.RandomSharpness(sharpness=0.5, same_on_batch=False, p=0.5, keepdim=True),\n",
    "        K.augmentation.RandomErasing(scale=(0.02, 0.33), ratio=(0.3, 3.3), value=0.0, same_on_batch=False, p=0.5, keepdim=True),\n",
    "        K.augmentation.RandomHorizontalFlip(p=0.25, keepdim=True),\n",
    "        K.augmentation.RandomVerticalFlip(p=0.25, keepdim=True),\n",
    "        K.augmentation.RandomRotation(p=0.5, degrees=20, keepdim=True),\n",
    "        data_keys=[\"input\"],\n",
    "        same_on_batch=False,\n",
    "    ).to(device)\n",
    "    \n",
    "    for i in range(n):\n",
    "        in_tensor = K.io.load_image(image_path, K.io.ImageLoadType.RGB32)[None, ...]  # BxCxHxW\n",
    "        in_tensor.to(device)\n",
    "        out_tensor = pipe(in_tensor)\n",
    "        \n",
    "        image_name = Path(image_path).name\n",
    "        save_image(out_tensor[0].cpu(), fp=os.path.join(save_path, f'{image_name}_{i}.jpg'))"
   ]
  },
  {
   "cell_type": "code",
   "execution_count": 15,
   "id": "6d2e6fe5",
   "metadata": {},
   "outputs": [],
   "source": [
    "# parrarelization\n",
    "from threading import Thread, Lock\n",
    "from typing import Any, Callable, Tuple, List\n",
    "\n",
    "def process_parallel(function: Callable[..., Any],\n",
    "                     args: List[Any]) -> list[Any]:\n",
    "    \"\"\"Run all items in args in parallel using threads.\n",
    "\n",
    "    Args:\n",
    "        function (Callable[..., Any]): function to apply\n",
    "        args (Sequence[Sequence[Any]]): list of sequences, one per argument\n",
    "                                        (like zip), e.g. [[a1, a2], [b1, b2]]\n",
    "                                        -> calls function(a1, b1), function(a2, b2)\n",
    "\n",
    "    Returns:\n",
    "        list[Any]: results of each function call\n",
    "    \"\"\"\n",
    "\n",
    "    threads: list[Thread] = []\n",
    "    results: list[Any] = []\n",
    "\n",
    "    lock = Lock()\n",
    "    \n",
    "    def wrapper(*args: Tuple[Any, ...]) -> None:\n",
    "        result = function(*args)\n",
    "        with lock:\n",
    "            results.append(result)\n",
    "    \n",
    "    function_args = []\n",
    "    \n",
    "    for i in range(len(args)):\n",
    "        function_args.append((args[0][i], args[1][i], args[2][i]))\n",
    "    \n",
    "    for item in function_args:\n",
    "        t = Thread(target=wrapper, args=item)\n",
    "        t.start()\n",
    "        threads.append(t)\n",
    "\n",
    "    for t in threads:\n",
    "        t.join()\n",
    "\n",
    "    return results\n"
   ]
  },
  {
   "cell_type": "code",
   "execution_count": 18,
   "id": "ea89659f",
   "metadata": {},
   "outputs": [],
   "source": [
    "from pathlib import Path\n",
    "\n",
    "sublist_n = 25\n",
    "augment_n = 250\n",
    "\n",
    "for raw_class, augmented_class in zip(train_y, train_y_augment):\n",
    "    # read all raw_class\n",
    "    image_paths = os.listdir(raw_class)\n",
    "    y_class = Path(raw_class).name\n",
    "    \n",
    "    image_path_sublists = [image_paths[i:i + sublist_n] for i in range(0, len(image_paths), sublist_n)]\n",
    "    for image_path_sublist in image_path_sublists:\n",
    "        image_full_path_sublist = [os.path.join(train_set, y_class, image) for image in image_path_sublist]\n",
    "        image_full_path_augment_sublist = [os.path.join(train_set_augment, y_class) for _ in image_full_path_sublist]\n",
    "        augment_n_list = sublist_n * [augment_n]\n",
    "\n",
    "        process_parallel(augment_pipe, (image_full_path_sublist, image_full_path_augment_sublist, augment_n_list))\n",
    "    "
   ]
  }
 ],
 "metadata": {
  "kernelspec": {
   "display_name": "bromine",
   "language": "python",
   "name": "python3"
  },
  "language_info": {
   "codemirror_mode": {
    "name": "ipython",
    "version": 3
   },
   "file_extension": ".py",
   "mimetype": "text/x-python",
   "name": "python",
   "nbconvert_exporter": "python",
   "pygments_lexer": "ipython3",
   "version": "3.13.7"
  }
 },
 "nbformat": 4,
 "nbformat_minor": 5
}
