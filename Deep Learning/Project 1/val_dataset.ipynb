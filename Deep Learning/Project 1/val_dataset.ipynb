{
 "cells": [
  {
   "cell_type": "code",
   "execution_count": 1,
   "id": "20a35f85",
   "metadata": {},
   "outputs": [],
   "source": [
    "import os\n",
    "import random\n",
    "import shutil"
   ]
  },
  {
   "cell_type": "code",
   "execution_count": 2,
   "id": "5e3a3ec3",
   "metadata": {},
   "outputs": [],
   "source": [
    "dataset_dir = os.path.join(os.getcwd(), 'augmented_dataset')\n",
    "dataset_train_dir = os.path.join(dataset_dir, 'train')\n",
    "dataset_val_dir = os.path.join(dataset_dir, 'val')"
   ]
  },
  {
   "cell_type": "code",
   "execution_count": 3,
   "id": "363f36ac",
   "metadata": {},
   "outputs": [
    {
     "data": {
      "text/plain": [
       "(['d:\\\\Data\\\\sandbox\\\\image-augmentation\\\\augmented_dataset\\\\val\\\\angry',\n",
       "  'd:\\\\Data\\\\sandbox\\\\image-augmentation\\\\augmented_dataset\\\\val\\\\disgust',\n",
       "  'd:\\\\Data\\\\sandbox\\\\image-augmentation\\\\augmented_dataset\\\\val\\\\fear',\n",
       "  'd:\\\\Data\\\\sandbox\\\\image-augmentation\\\\augmented_dataset\\\\val\\\\happy',\n",
       "  'd:\\\\Data\\\\sandbox\\\\image-augmentation\\\\augmented_dataset\\\\val\\\\neutral',\n",
       "  'd:\\\\Data\\\\sandbox\\\\image-augmentation\\\\augmented_dataset\\\\val\\\\sad',\n",
       "  'd:\\\\Data\\\\sandbox\\\\image-augmentation\\\\augmented_dataset\\\\val\\\\surprise'],\n",
       " ['d:\\\\Data\\\\sandbox\\\\image-augmentation\\\\augmented_dataset\\\\train\\\\angry',\n",
       "  'd:\\\\Data\\\\sandbox\\\\image-augmentation\\\\augmented_dataset\\\\train\\\\disgust',\n",
       "  'd:\\\\Data\\\\sandbox\\\\image-augmentation\\\\augmented_dataset\\\\train\\\\fear',\n",
       "  'd:\\\\Data\\\\sandbox\\\\image-augmentation\\\\augmented_dataset\\\\train\\\\happy',\n",
       "  'd:\\\\Data\\\\sandbox\\\\image-augmentation\\\\augmented_dataset\\\\train\\\\neutral',\n",
       "  'd:\\\\Data\\\\sandbox\\\\image-augmentation\\\\augmented_dataset\\\\train\\\\sad',\n",
       "  'd:\\\\Data\\\\sandbox\\\\image-augmentation\\\\augmented_dataset\\\\train\\\\surprise'])"
      ]
     },
     "execution_count": 3,
     "metadata": {},
     "output_type": "execute_result"
    }
   ],
   "source": [
    "dataset_val_class_dir = []\n",
    "dataset_train_class_dir = []\n",
    "for i in os.listdir(dataset_train_dir):\n",
    "    dataset_val_class_dir.append(os.path.join(dataset_val_dir, i))\n",
    "    dataset_train_class_dir.append(os.path.join(dataset_train_dir, i))\n",
    "dataset_val_class_dir, dataset_train_class_dir"
   ]
  },
  {
   "cell_type": "code",
   "execution_count": null,
   "id": "191548fc",
   "metadata": {},
   "outputs": [
    {
     "data": {
      "text/plain": [
       "['sur1', 'sur3', 'sur2']"
      ]
     },
     "execution_count": 4,
     "metadata": {},
     "output_type": "execute_result"
    }
   ],
   "source": [
    "for train_class_dir, val_class_dir in zip(dataset_train_class_dir, dataset_val_class_dir):\n",
    "    if not os.path.isdir(val_class_dir):\n",
    "        os.mkdir(val_class_dir)\n",
    "    \n",
    "    train_images_paths = os.listdir(train_class_dir)\n",
    "    random.shuffle(train_images_paths)\n",
    "    \n",
    "    val_images = train_images_paths[:int(len(train_images_paths)*0.1)+1]\n",
    "\n",
    "    for val_image in val_images:\n",
    "        source = os.path.join(train_class_dir, val_image)\n",
    "        destination = os.path.join(val_class_dir, val_image)\n",
    "        \n",
    "        shutil.copy(source, destination)"
   ]
  }
 ],
 "metadata": {
  "kernelspec": {
   "display_name": "bromine",
   "language": "python",
   "name": "python3"
  },
  "language_info": {
   "codemirror_mode": {
    "name": "ipython",
    "version": 3
   },
   "file_extension": ".py",
   "mimetype": "text/x-python",
   "name": "python",
   "nbconvert_exporter": "python",
   "pygments_lexer": "ipython3",
   "version": "3.13.7"
  }
 },
 "nbformat": 4,
 "nbformat_minor": 5
}
